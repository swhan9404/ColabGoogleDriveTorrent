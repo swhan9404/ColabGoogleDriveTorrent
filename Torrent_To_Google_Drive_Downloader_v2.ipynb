{
  "nbformat": 4,
  "nbformat_minor": 0,
  "metadata": {
    "colab": {
      "name": "Torrent To Google Drive Downloader v2.ipynb",
      "provenance": [],
      "collapsed_sections": [],
      "toc_visible": true
    },
    "kernelspec": {
      "name": "python3",
      "display_name": "Python 3"
    }
  },
  "cells": [
    {
      "cell_type": "markdown",
      "metadata": {
        "id": "8nUkHPTlRIFA"
      },
      "source": [
        "# 1. google drive 연동"
      ]
    },
    {
      "cell_type": "code",
      "metadata": {
        "colab": {
          "base_uri": "https://localhost:8080/"
        },
        "id": "OB08oaBwQGCO",
        "outputId": "3fb69452-2c51-48f0-8528-053f7bd95dae"
      },
      "source": [
        "from google.colab import drive\r\n",
        "drive.mount('/content/drive')"
      ],
      "execution_count": 8,
      "outputs": [
        {
          "output_type": "stream",
          "text": [
            "Drive already mounted at /content/drive; to attempt to forcibly remount, call drive.mount(\"/content/drive\", force_remount=True).\n"
          ],
          "name": "stdout"
        }
      ]
    },
    {
      "cell_type": "markdown",
      "metadata": {
        "id": "_TByXVW8RNY_"
      },
      "source": [
        "# 2. python3-libtorrent 패키지 인스톨"
      ]
    },
    {
      "cell_type": "code",
      "metadata": {
        "colab": {
          "base_uri": "https://localhost:8080/"
        },
        "id": "qnY3TWQqQKwK",
        "outputId": "348bdc8d-5cb1-4d10-bc10-6ffca7e8c521"
      },
      "source": [
        "!apt install python3-libtorrent"
      ],
      "execution_count": 2,
      "outputs": [
        {
          "output_type": "stream",
          "text": [
            "Reading package lists... Done\n",
            "Building dependency tree       \n",
            "Reading state information... Done\n",
            "The following additional packages will be installed:\n",
            "  libtorrent-rasterbar9\n",
            "Suggested packages:\n",
            "  libtorrent-rasterbar-dbg\n",
            "The following NEW packages will be installed:\n",
            "  libtorrent-rasterbar9 python3-libtorrent\n",
            "0 upgraded, 2 newly installed, 0 to remove and 12 not upgraded.\n",
            "Need to get 1,569 kB of archives.\n",
            "After this operation, 5,718 kB of additional disk space will be used.\n",
            "Get:1 http://archive.ubuntu.com/ubuntu bionic/universe amd64 libtorrent-rasterbar9 amd64 1.1.5-1build1 [1,258 kB]\n",
            "Get:2 http://archive.ubuntu.com/ubuntu bionic/universe amd64 python3-libtorrent amd64 1.1.5-1build1 [310 kB]\n",
            "Fetched 1,569 kB in 3s (620 kB/s)\n",
            "Selecting previously unselected package libtorrent-rasterbar9.\n",
            "(Reading database ... 146364 files and directories currently installed.)\n",
            "Preparing to unpack .../libtorrent-rasterbar9_1.1.5-1build1_amd64.deb ...\n",
            "Unpacking libtorrent-rasterbar9 (1.1.5-1build1) ...\n",
            "Selecting previously unselected package python3-libtorrent.\n",
            "Preparing to unpack .../python3-libtorrent_1.1.5-1build1_amd64.deb ...\n",
            "Unpacking python3-libtorrent (1.1.5-1build1) ...\n",
            "Setting up libtorrent-rasterbar9 (1.1.5-1build1) ...\n",
            "Setting up python3-libtorrent (1.1.5-1build1) ...\n",
            "Processing triggers for libc-bin (2.27-3ubuntu1.3) ...\n",
            "/sbin/ldconfig.real: /usr/local/lib/python3.6/dist-packages/ideep4py/lib/libmkldnn.so.0 is not a symbolic link\n",
            "\n"
          ],
          "name": "stdout"
        }
      ]
    },
    {
      "cell_type": "markdown",
      "metadata": {
        "id": "z9H2CkxvRVxQ"
      },
      "source": [
        "# 3. torrent 파일 다운로드\r\n",
        "다운로드 위치 설정 및 토렌트 자석 링크로 다운로드"
      ]
    },
    {
      "cell_type": "code",
      "metadata": {
        "colab": {
          "base_uri": "https://localhost:8080/"
        },
        "id": "kDGMgQQcRizc",
        "outputId": "87015574-3ec3-48fa-b2d9-17c8059ea77e"
      },
      "source": [
        "import libtorrent as lt\r\n",
        "import time\r\n",
        "import datetime\r\n",
        "\r\n",
        "ses = lt.session()\r\n",
        "ses.listen_on(6881, 6891)\r\n",
        "params = {\r\n",
        "    'save_path': '/content/drive/MyDrive/볼거 애니',                              # 저장위치\r\n",
        "    'storage_mode': lt.storage_mode_t(2),\r\n",
        "    'paused': False,\r\n",
        "    'auto_managed': True,\r\n",
        "    'duplicate_is_error': True}\r\n",
        "\r\n",
        "link = \"magnet:?xt=urn:btih:b845d94a140e6b7c7681a2419c214c7362ba0e03\" # 토렌트 파일 다운로드 되는 링크 / 혹은 마그넷 주소\r\n",
        "print(link)\r\n",
        "\r\n",
        "handle = lt.add_magnet_uri(ses, link, params)\r\n",
        "ses.start_dht()\r\n",
        "\r\n",
        "begin = time.time()\r\n",
        "print(datetime.datetime.now())\r\n",
        "\r\n",
        "print ('Downloading Metadata...')\r\n",
        "while (not handle.has_metadata()):\r\n",
        "    time.sleep(1)\r\n",
        "print ('Got Metadata, Starting Torrent Download...')\r\n",
        "\r\n",
        "print(\"Starting\", handle.name())\r\n",
        "\r\n",
        "while (handle.status().state != lt.torrent_status.seeding):\r\n",
        "    s = handle.status()\r\n",
        "    print(s)\r\n",
        "    state_str = ['queued', 'checking', 'downloading metadata', \\\r\n",
        "            'downloading', 'finished', 'seeding', 'allocating']\r\n",
        "    print ('%.2f%% complete (down: %.1f kb/s up: %.1f kB/s peers: %d) %s ' % \\\r\n",
        "            (s.progress * 100, s.download_rate / 1000, s.upload_rate / 1000, \\\r\n",
        "            s.num_peers, state_str[s.state]))\r\n",
        "    time.sleep(5)\r\n",
        "\r\n",
        "end = time.time()\r\n",
        "print(handle.name(), \"COMPLETE\")\r\n",
        "\r\n",
        "print(\"Elapsed Time: \",int((end-begin)//60),\"min :\", int((end-begin)%60), \"sec\")\r\n",
        "\r\n",
        "print(datetime.datetime.now())"
      ],
      "execution_count": null,
      "outputs": [
        {
          "output_type": "stream",
          "text": [
            "magnet:?xt=urn:btih:b845d94a140e6b7c7681a2419c214c7362ba0e03\n",
            "2021-01-21 03:57:57.460042\n",
            "Downloading Metadata...\n",
            "Got Metadata, Starting Torrent Download...\n",
            "Starting [Ohys-Raws] Jujutsu Kaisen (TBS 1280x720 x264 AAC)\n",
            "<libtorrent.torrent_status object at 0x4188500>\n",
            "0.00% complete (down: 4.4 kb/s up: 0.3 kB/s peers: 4) downloading \n",
            "<libtorrent.torrent_status object at 0x39eaf80>\n",
            "0.51% complete (down: 2917.7 kb/s up: 87.5 kB/s peers: 21) downloading \n",
            "<libtorrent.torrent_status object at 0x4188500>\n",
            "1.26% complete (down: 4792.0 kb/s up: 162.3 kB/s peers: 32) downloading \n",
            "<libtorrent.torrent_status object at 0x39eaf80>\n",
            "1.78% complete (down: 5866.2 kb/s up: 179.9 kB/s peers: 33) downloading \n",
            "<libtorrent.torrent_status object at 0x4188500>\n",
            "2.52% complete (down: 5545.0 kb/s up: 167.3 kB/s peers: 33) downloading \n",
            "<libtorrent.torrent_status object at 0x39eaf80>\n",
            "3.04% complete (down: 5687.0 kb/s up: 170.9 kB/s peers: 31) downloading \n",
            "<libtorrent.torrent_status object at 0x4188500>\n",
            "3.98% complete (down: 5433.0 kb/s up: 164.8 kB/s peers: 32) downloading \n",
            "<libtorrent.torrent_status object at 0x39eaf80>\n",
            "4.54% complete (down: 5322.2 kb/s up: 162.1 kB/s peers: 31) downloading \n",
            "<libtorrent.torrent_status object at 0x4188500>\n",
            "5.19% complete (down: 5410.2 kb/s up: 164.2 kB/s peers: 31) downloading \n",
            "<libtorrent.torrent_status object at 0x39eaf80>\n",
            "5.84% complete (down: 5406.9 kb/s up: 165.6 kB/s peers: 31) downloading \n",
            "<libtorrent.torrent_status object at 0x4188500>\n",
            "6.56% complete (down: 5408.3 kb/s up: 166.5 kB/s peers: 31) downloading \n",
            "<libtorrent.torrent_status object at 0x39eaf80>\n",
            "7.22% complete (down: 5681.9 kb/s up: 175.4 kB/s peers: 30) downloading \n",
            "<libtorrent.torrent_status object at 0x4188500>\n",
            "7.98% complete (down: 6157.8 kb/s up: 187.3 kB/s peers: 32) downloading \n",
            "<libtorrent.torrent_status object at 0x39eaf80>\n",
            "8.64% complete (down: 6271.2 kb/s up: 191.3 kB/s peers: 36) downloading \n",
            "<libtorrent.torrent_status object at 0x4188500>\n",
            "9.41% complete (down: 5816.2 kb/s up: 178.9 kB/s peers: 34) downloading \n",
            "<libtorrent.torrent_status object at 0x39eaf80>\n",
            "10.08% complete (down: 5884.6 kb/s up: 179.0 kB/s peers: 34) downloading \n",
            "<libtorrent.torrent_status object at 0x4188500>\n",
            "10.82% complete (down: 5586.3 kb/s up: 170.3 kB/s peers: 33) downloading \n",
            "<libtorrent.torrent_status object at 0x39eaf80>\n",
            "11.55% complete (down: 5660.4 kb/s up: 172.2 kB/s peers: 35) downloading \n",
            "<libtorrent.torrent_status object at 0x4188500>\n",
            "12.27% complete (down: 5707.0 kb/s up: 178.5 kB/s peers: 35) downloading \n",
            "<libtorrent.torrent_status object at 0x39eaf80>\n",
            "12.93% complete (down: 5725.4 kb/s up: 179.5 kB/s peers: 35) downloading \n",
            "<libtorrent.torrent_status object at 0x4188500>\n",
            "13.61% complete (down: 5624.6 kb/s up: 178.1 kB/s peers: 35) downloading \n",
            "<libtorrent.torrent_status object at 0x39eaf80>\n",
            "14.25% complete (down: 5322.9 kb/s up: 178.8 kB/s peers: 34) downloading \n",
            "<libtorrent.torrent_status object at 0x4188500>\n",
            "14.95% complete (down: 5649.4 kb/s up: 187.0 kB/s peers: 33) downloading \n",
            "<libtorrent.torrent_status object at 0x39eaf80>\n",
            "15.61% complete (down: 5667.4 kb/s up: 184.8 kB/s peers: 33) downloading \n",
            "<libtorrent.torrent_status object at 0x4188500>\n",
            "16.32% complete (down: 5903.6 kb/s up: 183.6 kB/s peers: 33) downloading \n",
            "<libtorrent.torrent_status object at 0x39eaf80>\n",
            "17.12% complete (down: 6107.2 kb/s up: 187.7 kB/s peers: 36) downloading \n",
            "<libtorrent.torrent_status object at 0x4188500>\n",
            "17.82% complete (down: 5924.3 kb/s up: 184.8 kB/s peers: 39) downloading \n",
            "<libtorrent.torrent_status object at 0x39eaf80>\n",
            "18.46% complete (down: 5768.1 kb/s up: 185.9 kB/s peers: 39) downloading \n",
            "<libtorrent.torrent_status object at 0x4188500>\n",
            "19.10% complete (down: 5653.1 kb/s up: 180.1 kB/s peers: 39) downloading \n",
            "<libtorrent.torrent_status object at 0x39eaf80>\n",
            "19.83% complete (down: 5755.8 kb/s up: 180.9 kB/s peers: 37) downloading \n",
            "<libtorrent.torrent_status object at 0x4188500>\n",
            "20.51% complete (down: 5744.6 kb/s up: 176.8 kB/s peers: 37) downloading \n",
            "<libtorrent.torrent_status object at 0x39eaf80>\n",
            "21.25% complete (down: 5736.6 kb/s up: 174.7 kB/s peers: 37) downloading \n",
            "<libtorrent.torrent_status object at 0x4188500>\n",
            "21.91% complete (down: 5575.1 kb/s up: 170.7 kB/s peers: 37) downloading \n",
            "<libtorrent.torrent_status object at 0x39eaf80>\n",
            "22.51% complete (down: 5347.4 kb/s up: 172.7 kB/s peers: 37) downloading \n",
            "<libtorrent.torrent_status object at 0x4188500>\n",
            "22.97% complete (down: 4915.1 kb/s up: 170.5 kB/s peers: 38) downloading \n",
            "<libtorrent.torrent_status object at 0x39eaf80>\n",
            "23.53% complete (down: 4409.5 kb/s up: 173.5 kB/s peers: 37) downloading \n",
            "<libtorrent.torrent_status object at 0x4188500>\n",
            "24.08% complete (down: 4620.4 kb/s up: 178.4 kB/s peers: 35) downloading \n",
            "<libtorrent.torrent_status object at 0x39eaf80>\n",
            "24.57% complete (down: 4614.6 kb/s up: 175.7 kB/s peers: 35) downloading \n",
            "<libtorrent.torrent_status object at 0x4188500>\n",
            "25.44% complete (down: 4675.2 kb/s up: 170.7 kB/s peers: 38) downloading \n",
            "<libtorrent.torrent_status object at 0x39eaf80>\n",
            "26.04% complete (down: 4922.6 kb/s up: 166.0 kB/s peers: 41) downloading \n",
            "<libtorrent.torrent_status object at 0x4188500>\n",
            "26.72% complete (down: 5344.8 kb/s up: 171.8 kB/s peers: 35) downloading \n",
            "<libtorrent.torrent_status object at 0x39eaf80>\n",
            "27.40% complete (down: 5565.8 kb/s up: 173.4 kB/s peers: 38) downloading \n",
            "<libtorrent.torrent_status object at 0x4188500>\n",
            "28.09% complete (down: 5702.6 kb/s up: 175.9 kB/s peers: 37) downloading \n",
            "<libtorrent.torrent_status object at 0x39eaf80>\n",
            "28.78% complete (down: 5532.7 kb/s up: 169.9 kB/s peers: 36) downloading \n",
            "<libtorrent.torrent_status object at 0x4188500>\n",
            "29.44% complete (down: 5420.0 kb/s up: 166.6 kB/s peers: 36) downloading \n",
            "<libtorrent.torrent_status object at 0x39eaf80>\n",
            "30.10% complete (down: 5618.4 kb/s up: 171.9 kB/s peers: 36) downloading \n",
            "<libtorrent.torrent_status object at 0x4188500>\n",
            "30.77% complete (down: 5337.1 kb/s up: 163.3 kB/s peers: 34) downloading \n",
            "<libtorrent.torrent_status object at 0x39eaf80>\n",
            "31.39% complete (down: 5244.3 kb/s up: 160.6 kB/s peers: 34) downloading \n",
            "<libtorrent.torrent_status object at 0x4188500>\n",
            "32.07% complete (down: 5440.7 kb/s up: 166.2 kB/s peers: 36) downloading \n",
            "<libtorrent.torrent_status object at 0x39eaf80>\n",
            "32.68% complete (down: 5340.9 kb/s up: 163.7 kB/s peers: 35) downloading \n",
            "<libtorrent.torrent_status object at 0x4188500>\n",
            "33.34% complete (down: 5433.8 kb/s up: 166.6 kB/s peers: 35) downloading \n",
            "<libtorrent.torrent_status object at 0x39eaf80>\n",
            "34.00% complete (down: 5492.1 kb/s up: 165.4 kB/s peers: 37) downloading \n",
            "<libtorrent.torrent_status object at 0x4188500>\n",
            "34.56% complete (down: 5296.9 kb/s up: 160.8 kB/s peers: 37) downloading \n",
            "<libtorrent.torrent_status object at 0x39eaf80>\n",
            "35.22% complete (down: 5530.3 kb/s up: 169.0 kB/s peers: 37) downloading \n",
            "<libtorrent.torrent_status object at 0x4188500>\n",
            "35.91% complete (down: 6124.5 kb/s up: 186.7 kB/s peers: 36) downloading \n",
            "<libtorrent.torrent_status object at 0x39eaf80>\n",
            "36.62% complete (down: 5776.2 kb/s up: 175.9 kB/s peers: 37) downloading \n",
            "<libtorrent.torrent_status object at 0x4188500>\n",
            "37.32% complete (down: 5528.1 kb/s up: 168.6 kB/s peers: 36) downloading \n",
            "<libtorrent.torrent_status object at 0x39eaf80>\n",
            "38.13% complete (down: 5547.6 kb/s up: 169.3 kB/s peers: 35) downloading \n"
          ],
          "name": "stdout"
        }
      ]
    },
    {
      "cell_type": "code",
      "metadata": {
        "id": "mnWYmJWNS31k"
      },
      "source": [
        "\"\"\" 90분동안 움직임 없으면, 연결이 끊어지기 때문에 F12- console 에 이거 넣으두면 세션 안끊어짐\r\n",
        "function ClickConnect(){\r\n",
        "    console.log(\"코랩 연결 끊김 방지\"); \r\n",
        "    document.querySelector(\"colab-toolbar-button#connect\").click() \r\n",
        "}\r\n",
        "setInterval(ClickConnect, 60 * 1000)\r\n",
        "\"\"\""
      ],
      "execution_count": null,
      "outputs": []
    }
  ]
}